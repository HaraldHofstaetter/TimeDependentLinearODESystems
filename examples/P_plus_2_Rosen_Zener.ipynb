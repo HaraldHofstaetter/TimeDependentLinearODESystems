{
 "cells": [
  {
   "cell_type": "markdown",
   "metadata": {},
   "source": [
    "# Numerical examples for $p+2$ paper"
   ]
  },
  {
   "cell_type": "markdown",
   "metadata": {},
   "source": [
    "## Rosen-Zener model"
   ]
  },
  {
   "cell_type": "code",
   "execution_count": 1,
   "metadata": {},
   "outputs": [],
   "source": [
    "using TimeDependentLinearODESystems"
   ]
  },
  {
   "cell_type": "code",
   "execution_count": 2,
   "metadata": {},
   "outputs": [
    {
     "name": "stderr",
     "output_type": "stream",
     "text": [
      "WARNING: using SparseArrays.A_mul_B! in module TimeDependentLinearODESystems conflicts with an existing identifier.\n"
     ]
    },
    {
     "data": {
      "text/plain": [
       "full (generic function with 13 methods)"
      ]
     },
     "execution_count": 2,
     "metadata": {},
     "output_type": "execute_result"
    }
   ],
   "source": [
    "load_example(\"rosen_zener.jl\")"
   ]
  },
  {
   "cell_type": "markdown",
   "metadata": {},
   "source": [
    "### Data from eq. (6.3)"
   ]
  },
  {
   "cell_type": "code",
   "execution_count": 3,
   "metadata": {},
   "outputs": [],
   "source": [
    "V0= 1.0\n",
    "omega=0.5\n",
    "T0=1.0\n",
    "d=100\n",
    "RZ=RosenZener(V0, omega, T0, d);"
   ]
  },
  {
   "cell_type": "markdown",
   "metadata": {},
   "source": [
    "### Local error CF2 (Table 4)"
   ]
  },
  {
   "cell_type": "code",
   "execution_count": 4,
   "metadata": {},
   "outputs": [
    {
     "name": "stdout",
     "output_type": "stream",
     "text": [
      "             dt         err      p       err_est      p\n",
      "--------------------------------------------------------\n",
      "  1   5.000e-01   1.960e-01            6.470e-03\n",
      "  2   2.500e-01   2.628e-02   2.90     2.232e-04   4.86\n",
      "  3   1.250e-01   3.343e-03   2.97     7.157e-06   4.96\n",
      "  4   6.250e-02   4.198e-04   2.99     2.251e-07   4.99\n",
      "  5   3.125e-02   5.254e-05   3.00     7.047e-09   5.00\n",
      "  6   1.563e-02   6.569e-06   3.00     2.203e-10   5.00\n",
      "  7   7.813e-03   8.212e-07   3.00     6.885e-12   5.00\n",
      "  8   3.906e-03   1.026e-07   3.00     2.157e-13   5.00\n"
     ]
    }
   ],
   "source": [
    "g=ones(size(RZ,2))\n",
    "psi = g.+0.0im \n",
    "local_orders_est(RZ,  psi, 0, 0.5; \n",
    "scheme=CF2, reference_scheme=CF6,\n",
    "symmetrized_defect=true,\n",
    "trapezoidal_rule=true,\n",
    "reference_steps=10, rows=8, use_expm=true);"
   ]
  },
  {
   "cell_type": "markdown",
   "metadata": {},
   "source": [
    "### Local error CF4, Taylor variant (Table 5)"
   ]
  },
  {
   "cell_type": "code",
   "execution_count": 5,
   "metadata": {},
   "outputs": [
    {
     "name": "stdout",
     "output_type": "stream",
     "text": [
      "             dt         err      p       err_est      p\n",
      "--------------------------------------------------------\n",
      "  1   1.000e+00   5.194e-02            5.702e-03\n",
      "  2   5.000e-01   1.884e-03   4.78     5.854e-05   6.61\n",
      "  3   2.500e-01   6.029e-05   4.97     4.875e-07   6.91\n",
      "  4   1.250e-01   1.892e-06   4.99     3.868e-09   6.98\n",
      "  5   6.250e-02   5.918e-08   5.00     3.033e-11   6.99\n",
      "  6   3.125e-02   1.850e-09   5.00     2.373e-13   7.00\n"
     ]
    }
   ],
   "source": [
    "g=ones(size(RZ,2))\n",
    "psi = g.+0.0im \n",
    "local_orders_est(RZ,  psi, 0, 1.0; \n",
    "scheme=CF4, reference_scheme=CF6,\n",
    "symmetrized_defect=true,\n",
    "trapezoidal_rule=false,\n",
    "reference_steps=10, rows=6, use_expm=true);"
   ]
  },
  {
   "cell_type": "markdown",
   "metadata": {},
   "source": [
    "### Local error CF4, Hermite variant (Table 6)"
   ]
  },
  {
   "cell_type": "code",
   "execution_count": 6,
   "metadata": {},
   "outputs": [
    {
     "name": "stdout",
     "output_type": "stream",
     "text": [
      "             dt         err      p       err_est      p\n",
      "--------------------------------------------------------\n",
      "  1   1.000e+00   5.194e-02            3.992e-03\n",
      "  2   5.000e-01   1.884e-03   4.78     4.008e-05   6.64\n",
      "  3   2.500e-01   6.029e-05   4.97     3.277e-07   6.93\n",
      "  4   1.250e-01   1.892e-06   4.99     2.584e-09   6.99\n",
      "  5   6.250e-02   5.918e-08   5.00     2.023e-11   7.00\n",
      "  6   3.125e-02   1.850e-09   5.00     1.583e-13   7.00\n"
     ]
    }
   ],
   "source": [
    "g=ones(size(RZ,2))\n",
    "psi = g.+0.0im \n",
    "local_orders_est(RZ,  psi, 0, 1.0; \n",
    "scheme=CF4, reference_scheme=CF6,\n",
    "symmetrized_defect=true,\n",
    "trapezoidal_rule=true,\n",
    "reference_steps=10, rows=6, use_expm=true);"
   ]
  },
  {
   "cell_type": "markdown",
   "metadata": {},
   "source": [
    "### Local error Magnus4, Hermite variant (Table 7)"
   ]
  },
  {
   "cell_type": "code",
   "execution_count": 7,
   "metadata": {},
   "outputs": [
    {
     "name": "stdout",
     "output_type": "stream",
     "text": [
      "             dt         err      p       err_est      p\n",
      "--------------------------------------------------------\n",
      "  1   1.000e+00   1.129e-01            8.522e-03\n",
      "  2   5.000e-01   4.788e-03   4.56     1.214e-04   6.13\n",
      "  3   2.500e-01   1.618e-04   4.89     1.126e-06   6.75\n",
      "  4   1.250e-01   5.154e-06   4.97     9.201e-09   6.94\n",
      "  5   6.250e-02   1.618e-07   4.99     7.269e-11   6.98\n",
      "  6   3.125e-02   5.064e-09   5.00     5.693e-13   7.00\n",
      "  2.282050 seconds (2.05 M allocations: 1.100 GiB, 5.67% gc time)\n"
     ]
    }
   ],
   "source": [
    "g=ones(size(RZ,2))\n",
    "psi = g.+0.0im \n",
    "@time local_orders_est(RZ,  psi, 0, 1.0; \n",
    "scheme=Magnus4, reference_scheme=CF6,\n",
    "symmetrized_defect=true,\n",
    "trapezoidal_rule=true,\n",
    "reference_steps=10,rows=6, use_expm=true);"
   ]
  },
  {
   "cell_type": "markdown",
   "metadata": {},
   "source": [
    "### Reference solution for global error tables"
   ]
  },
  {
   "cell_type": "code",
   "execution_count": 8,
   "metadata": {},
   "outputs": [
    {
     "name": "stderr",
     "output_type": "stream",
     "text": [
      "┌ Warning: The start/next/done iteration protocol is deprecated. Implement `iterate(::EquidistantTimeStepper)`.\n",
      "│   caller = ip:0x0\n",
      "└ @ Core :-1\n"
     ]
    }
   ],
   "source": [
    "g=ones(size(RZ,2))\n",
    "psi_ref = g.+0.0im \n",
    "t0 = 0.0\n",
    "tend = 1.0\n",
    "dt = 0.01\n",
    "for t in EquidistantTimeStepper(RZ, psi_ref, 0.0, 1.0, dt, scheme=CF8, use_expm=true)\n",
    "end"
   ]
  },
  {
   "cell_type": "markdown",
   "metadata": {},
   "source": [
    "### Global error CF2, basis scheme"
   ]
  },
  {
   "cell_type": "code",
   "execution_count": 9,
   "metadata": {},
   "outputs": [
    {
     "name": "stdout",
     "output_type": "stream",
     "text": [
      "             dt         err           C      p \n",
      "-----------------------------------------------\n",
      "  1   5.000e-01   2.713e-01\n",
      "  2   2.500e-01   6.618e-02   1.112e+00   2.04\n",
      "  3   1.250e-01   1.645e-02   1.071e+00   2.01\n",
      "  4   6.250e-02   4.106e-03   1.057e+00   2.00\n",
      "  5   3.125e-02   1.026e-03   1.053e+00   2.00\n",
      "  6   1.563e-02   2.565e-04   1.051e+00   2.00\n"
     ]
    }
   ],
   "source": [
    "g=ones(size(RZ,2))\n",
    "psi = g.+0.0im \n",
    "global_orders(RZ,  psi, psi_ref, t0, tend, 0.5; \n",
    "scheme=CF2,\n",
    "rows=6, use_expm=true);"
   ]
  },
  {
   "cell_type": "markdown",
   "metadata": {},
   "source": [
    "### Global error CF2, corrected scheme"
   ]
  },
  {
   "cell_type": "code",
   "execution_count": 10,
   "metadata": {},
   "outputs": [
    {
     "name": "stdout",
     "output_type": "stream",
     "text": [
      "             dt         err           C      p \n",
      "-----------------------------------------------\n",
      "  1   5.000e-01   7.652e-03\n",
      "  2   2.500e-01   4.638e-04   1.263e-01   4.04\n",
      "  3   1.250e-01   2.880e-05   1.203e-01   4.01\n",
      "  4   6.250e-02   1.797e-06   1.185e-01   4.00\n",
      "  5   3.125e-02   1.123e-07   1.180e-01   4.00\n",
      "  6   1.563e-02   7.018e-09   1.178e-01   4.00\n"
     ]
    }
   ],
   "source": [
    "g=ones(size(RZ,2))\n",
    "psi = g.+0.0im \n",
    "global_orders(RZ,  psi, psi_ref, t0, tend, 0.5; \n",
    "scheme=CF2,\n",
    "symmetrized_defect=true,\n",
    "trapezoidal_rule=true,\n",
    "corrected_scheme=true,\n",
    "rows=6, use_expm=true);"
   ]
  },
  {
   "cell_type": "markdown",
   "metadata": {},
   "source": [
    "### Global error CF4, basis scheme"
   ]
  },
  {
   "cell_type": "code",
   "execution_count": 11,
   "metadata": {},
   "outputs": [
    {
     "name": "stdout",
     "output_type": "stream",
     "text": [
      "             dt         err           C      p \n",
      "-----------------------------------------------\n",
      "  1   5.000e-01   2.098e-03\n",
      "  2   2.500e-01   1.212e-04   3.631e-02   4.11\n",
      "  3   1.250e-01   7.443e-06   3.215e-02   4.03\n",
      "  4   6.250e-02   4.632e-07   3.089e-02   4.01\n",
      "  5   3.125e-02   2.892e-08   3.049e-02   4.00\n",
      "  6   1.563e-02   1.807e-09   3.036e-02   4.00\n"
     ]
    }
   ],
   "source": [
    "g=ones(size(RZ,2))\n",
    "psi = g.+0.0im \n",
    "global_orders(RZ,  psi, psi_ref, t0, tend, 0.5; \n",
    "scheme=CF4,\n",
    "rows=6, use_expm=true);"
   ]
  },
  {
   "cell_type": "markdown",
   "metadata": {},
   "source": [
    "### Global error CF4, corrected scheme, Hermite variant"
   ]
  },
  {
   "cell_type": "code",
   "execution_count": 12,
   "metadata": {},
   "outputs": [
    {
     "name": "stdout",
     "output_type": "stream",
     "text": [
      "             dt         err           C      p \n",
      "-----------------------------------------------\n",
      "  1   5.000e-01   3.203e-05\n",
      "  2   2.500e-01   4.402e-07   2.331e-03   6.19\n",
      "  3   1.250e-01   6.702e-09   1.899e-03   6.04\n",
      "  4   6.250e-02   1.041e-10   1.789e-03   6.01\n",
      "  5   3.125e-02   1.676e-12   1.549e-03   5.96\n",
      "  6   1.563e-02   1.052e-13   1.719e-06   3.99\n"
     ]
    }
   ],
   "source": [
    "g=ones(size(RZ,2))\n",
    "psi = g.+0.0im \n",
    "global_orders(RZ,  psi, psi_ref, t0, tend, 0.5; \n",
    "scheme=CF4,\n",
    "symmetrized_defect=true,\n",
    "trapezoidal_rule=true,\n",
    "corrected_scheme=true,\n",
    "rows=6, use_expm=true);"
   ]
  },
  {
   "cell_type": "markdown",
   "metadata": {},
   "source": [
    "### Global error Magnus4, basis scheme"
   ]
  },
  {
   "cell_type": "code",
   "execution_count": 13,
   "metadata": {},
   "outputs": [
    {
     "name": "stdout",
     "output_type": "stream",
     "text": [
      "             dt         err           C      p \n",
      "-----------------------------------------------\n",
      "  1   5.000e-01   6.957e-03\n",
      "  2   2.500e-01   4.362e-04   1.110e-01   4.00\n",
      "  3   1.250e-01   2.728e-05   1.115e-01   4.00\n",
      "  4   6.250e-02   1.705e-06   1.117e-01   4.00\n",
      "  5   3.125e-02   1.066e-07   1.117e-01   4.00\n",
      "  6   1.563e-02   6.662e-09   1.118e-01   4.00\n"
     ]
    }
   ],
   "source": [
    "g=ones(size(RZ,2))\n",
    "psi = g.+0.0im \n",
    "global_orders(RZ,  psi, psi_ref, t0, tend, 0.5; \n",
    "scheme=Magnus4,\n",
    "rows=6, use_expm=true);"
   ]
  },
  {
   "cell_type": "markdown",
   "metadata": {},
   "source": [
    "### Global error Magnus4, corrected scheme, Hermite variant"
   ]
  },
  {
   "cell_type": "code",
   "execution_count": 14,
   "metadata": {},
   "outputs": [
    {
     "name": "stdout",
     "output_type": "stream",
     "text": [
      "             dt         err           C      p \n",
      "-----------------------------------------------\n",
      "  1   5.000e-01   1.536e-04\n",
      "  2   2.500e-01   2.452e-06   9.624e-03   5.97\n",
      "  3   1.250e-01   3.853e-08   9.930e-03   5.99\n",
      "  4   6.250e-02   6.029e-10   1.006e-02   6.00\n",
      "  5   3.125e-02   9.419e-12   1.012e-02   6.00\n",
      "  6   1.563e-02   1.688e-13   5.091e-03   5.80\n"
     ]
    }
   ],
   "source": [
    "g=ones(size(RZ,2))\n",
    "psi = g.+0.0im \n",
    "global_orders(RZ,  psi, psi_ref, t0, tend, 0.5; \n",
    "scheme=Magnus4,\n",
    "symmetrized_defect=true,\n",
    "trapezoidal_rule=true,\n",
    "corrected_scheme=true,\n",
    "rows=6, use_expm=true);"
   ]
  },
  {
   "cell_type": "markdown",
   "metadata": {},
   "source": [
    "### Plot of adaptive step-sizes"
   ]
  },
  {
   "cell_type": "code",
   "execution_count": 15,
   "metadata": {},
   "outputs": [
    {
     "name": "stdout",
     "output_type": "stream",
     "text": [
      "t= -5.000000000e+00  err=   1.11093329e+04  dt=   2.50000000e-01  rejected...\n",
      "t= -5.000000000e+00  err=   7.67747976e+00  dt=   1.49671387e-01  rejected...\n"
     ]
    }
   ],
   "source": [
    "g=ones(size(RZ,2))\n",
    "psi = g.+0.0im \n",
    "t0 = -5.0\n",
    "tend= 5.0\n",
    "t_CF4=[t0]\n",
    "for t in AdaptiveTimeStepper(RZ, psi, t0, tend, 1, 1e-8, scheme=CF4, use_expm=true)\n",
    "    push!(t_CF4,t)\n",
    "end"
   ]
  },
  {
   "cell_type": "code",
   "execution_count": 16,
   "metadata": {},
   "outputs": [
    {
     "name": "stdout",
     "output_type": "stream",
     "text": [
      "t= -5.000000000e+00  err=   1.15558495e+04  dt=   2.50000000e-01  rejected...\n",
      "t= -5.000000000e+00  err=   7.78353083e+00  dt=   1.49261289e-01  rejected...\n"
     ]
    }
   ],
   "source": [
    "g=ones(size(RZ,2))\n",
    "psi = g.+0.0im \n",
    "t0 = -5.0\n",
    "tend= 5.0\n",
    "t_Magnus4=[t0]\n",
    "for t in AdaptiveTimeStepper(RZ, psi, t0, tend, 1, 1e-8, scheme=Magnus4, use_expm=true)\n",
    "    push!(t_Magnus4,t)\n",
    "end"
   ]
  },
  {
   "cell_type": "code",
   "execution_count": 17,
   "metadata": {},
   "outputs": [],
   "source": [
    "using PyPlot"
   ]
  },
  {
   "cell_type": "code",
   "execution_count": 18,
   "metadata": {},
   "outputs": [
    {
     "data": {
      "text/plain": [
       "f2 (generic function with 1 method)"
      ]
     },
     "execution_count": 18,
     "metadata": {},
     "output_type": "execute_result"
    }
   ],
   "source": [
    "f1(t)=V0*cos(omega*t)/cosh(t/T0)\n",
    "f2(t)=V0*sin(omega*t)/cosh(t/T0)"
   ]
  },
  {
   "cell_type": "code",
   "execution_count": 19,
   "metadata": {},
   "outputs": [
    {
     "data": {
      "image/png": "[encoded data removed]",
      "text/plain": [
       "Figure(PyObject <Figure size 640x480 with 2 Axes>)"
      ]
     },
     "metadata": {},
     "output_type": "display_data"
    },
    {
     "name": "stderr",
     "output_type": "stream",
     "text": [
      "┌ Warning: `linspace(start, stop, length::Integer)` is deprecated, use `range(start, stop=stop, length=length)` instead.\n",
      "│   caller = top-level scope at In[19]:2\n",
      "└ @ Core In[19]:2\n"
     ]
    }
   ],
   "source": [
    "subplot(2, 1, 1)\n",
    "tt=linspace(-5,5,100)  \n",
    "xlabel(\"\\$t\\$\")\n",
    "ylabel(\"\\$f_1(t), f_2(t)\\$\")\n",
    "plot(tt,f1.(tt), label=\"\\$f_1(t)\\$\")\n",
    "plot(tt,f2.(tt), label=\"\\$f_2(t)\\$\")\n",
    "legend()\n",
    "subplot(2, 1, 2)\n",
    "xlabel(\"\\$t\\$\")\n",
    "ylabel(\"stepsize\")\n",
    "plot(t_CF4[3:end-1], t_CF4[3:end-1]-t_CF4[2:end-2],label=\"CF4\")\n",
    "plot(t_Magnus4[3:end-1],t_Magnus4[3:end-1]-t_Magnus4[2:end-2],label=\"Magnus4\")\n",
    "legend(loc=4)\n",
    "savefig(\"stepsizes_rosen_zener.png\", bbox_inches=\"tight\")\n"
   ]
  },
  {
   "cell_type": "code",
   "execution_count": null,
   "metadata": {},
   "outputs": [],
   "source": []
  }
 ],
 "metadata": {
  "kernelspec": {
   "display_name": "Julia 0.7.0",
   "language": "julia",
   "name": "julia-0.7"
  },
  "language_info": {
   "file_extension": ".jl",
   "mimetype": "application/julia",
   "name": "julia",
   "version": "0.7.0"
  }
 },
 "nbformat": 4,
 "nbformat_minor": 2
}
